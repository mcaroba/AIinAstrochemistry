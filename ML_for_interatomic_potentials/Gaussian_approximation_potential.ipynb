{
 "cells": [
  {
   "cell_type": "markdown",
   "id": "c43c84f9-2671-482f-9ab7-b575dc4af2e9",
   "metadata": {},
   "source": [
    "### In this tutorial, we will:\n",
    "\n",
    "1. Load a small dataset of **DFT-calculated C structures**.\n",
    "2. Compute **SOAP descriptors** to represent atomic environments.\n",
    "3. Write a simple **GAP** model ourselvs.  \n",
    "4. Train a **GAP** model to predict energies.\n",
    "5. Train a **GAP** model with gap_fit code.\n",
    "6. Wrap the model in an **ASE calculator**.\n",
    "\n",
    "\n",
    "### Requirements:\n",
    "- `ase`\n",
    "- `quippy`\n",
    "- `matplotlib`\n",
    "- `numpy`\n",
    "- `gap_fit`\n"
   ]
  },
  {
   "cell_type": "markdown",
   "id": "da665fe4-a9e5-4111-a828-c86c522a7f27",
   "metadata": {},
   "source": [
    "# Local GPR with SOAP Descriptors"
   ]
  },
  {
   "cell_type": "markdown",
   "id": "71758cda-c388-4faa-9cd2-000510e88a47",
   "metadata": {},
   "source": [
    "In this notebook, we build a Gaussian Process Regression (GPR) model to predict atomic energies from SOAP (Smooth Overlap of Atomic Positions) descriptors.\n",
    "We assume a local energy model:\n",
    "\n",
    "\n",
    "$$E = \\sum_{i=1}^{N} E_i(\\mathbf{p}_i)$$\n",
    "\n",
    "Where:\n",
    "\n",
    "- $E_i$ is the local energy of atom _i_,\n",
    "\n",
    "- $\\mathbf{p}_i$ is the SOAP vector of atom _i_\n",
    "  \n",
    "$$E_{\\text{total}}^{\\text{test}} = \\sum_{i \\in \\text{test}} \\sum_{j \\in \\text{train}} \\alpha_j \\cdot k(\\mathbf{p}_i, \\mathbf{p}_j)$$\n",
    "   \n",
    "- $k(\\mathbf{p}_i, \\mathbf{p}_j)$ is the SOAP kernel\n",
    "- $\\alpha_j$ is the coefficient from GPR training\n"
   ]
  },
  {
   "cell_type": "markdown",
   "id": "0e6570f2-57f3-49e5-8a5c-60422e19a7b2",
   "metadata": {},
   "source": [
    "### We use QUIP to compute SOAP vectors and NumPy for GPR training"
   ]
  },
  {
   "cell_type": "markdown",
   "id": "0f501414-718b-4429-b17f-5c80a77a27b6",
   "metadata": {},
   "source": [
    "#### Imports & Parameters"
   ]
  },
  {
   "cell_type": "code",
   "execution_count": null,
   "id": "4cb4dfda-a861-4662-a1b8-e3f3dfb5a72c",
   "metadata": {},
   "outputs": [],
   "source": [
    "from quippy.descriptors import Descriptor \n",
    "from ase.io import read, write\n",
    "import numpy as np\n",
    "import matplotlib.pyplot as plt\n",
    "import os\n",
    "import sys\n",
    "import random\n",
    "#import nglview as nv"
   ]
  },
  {
   "cell_type": "code",
   "execution_count": null,
   "id": "da44c1b5-3230-41b0-a776-1393ea7a24e1",
   "metadata": {},
   "outputs": [],
   "source": [
    "# Descriptor string \n",
    "soap_str = \"soap cutoff=3 l_max=4 n_max=4 atom_sigma=0.5 n_Z=1 Z1=6\"\n",
    "\n"
   ]
  },
  {
   "cell_type": "markdown",
   "id": "5bd0fb78-d6a1-449b-835d-bd7d5d68eb41",
   "metadata": {},
   "source": [
    "*l_max=4* -  spherical harmonics are expanded up to angular momentum 4\n",
    "\n",
    "*n_max=4* - the radial basis expansion uses 4 radial basis functions\n",
    "\n",
    "*atom_sigma* - width of a Gaussian function"
   ]
  },
  {
   "cell_type": "code",
   "execution_count": null,
   "id": "bd141b85-b2d5-4a7e-a998-539a849321fc",
   "metadata": {},
   "outputs": [],
   "source": [
    "# Initialize SOAP descriptor\n",
    "soap_descriptor = Descriptor(soap_str)"
   ]
  },
  {
   "cell_type": "markdown",
   "id": "82461a54-2c77-4f52-813f-53a5bfb5c07c",
   "metadata": {},
   "source": [
    "#### Load the structures using ASE"
   ]
  },
  {
   "cell_type": "code",
   "execution_count": null,
   "id": "1658e580-4ba8-4886-91fa-1f8ad1bbf843",
   "metadata": {},
   "outputs": [],
   "source": [
    "db=read('bulk_cryst.xyz', ':')"
   ]
  },
  {
   "cell_type": "code",
   "execution_count": null,
   "id": "942bdbd4-ebcd-4990-80cf-ab994eb0a10a",
   "metadata": {},
   "outputs": [],
   "source": [
    "print(\"The database has:\", len(db), \" carbon structures\")"
   ]
  },
  {
   "cell_type": "markdown",
   "id": "e28f4aa6-6934-486d-aa91-5b51e29c0995",
   "metadata": {},
   "source": [
    "<img src=\"figures/bulk_cryst_2.png\" width=\"300\"/> <img src=\"figures/bulk_cryst_0.png\" width=\"300\"/> <img src=\"figures/bulk_cryst_1.png\" width=\"300\"/> <img src=\"figures/bulk_cryst_4.png\" width=\"300\"/>"
   ]
  },
  {
   "cell_type": "code",
   "execution_count": null,
   "id": "ac57d824-17c2-44cf-952e-592bc01a6435",
   "metadata": {},
   "outputs": [],
   "source": [
    "def split_xyz(input_file, test_size=0.2, seed=42):\n",
    "    \n",
    "    # Automatically detect the input file path if not provided\n",
    "    if not os.path.exists(input_file):\n",
    "        raise FileNotFoundError(f\"Input file '{input_file}' not found in the current directory.\")\n",
    "\n",
    "    # Load the structures\n",
    "    structures = read(input_file, index=\":\")\n",
    "    print(f\"Loaded {len(structures)} structures from {input_file}\")\n",
    "\n",
    "    # Randomly shuffle the structures\n",
    "    random.seed(seed)\n",
    "    random.shuffle(structures)\n",
    "\n",
    "    # Split into train and test sets\n",
    "    split_idx = int(len(structures) * (1 - test_size))\n",
    "    train_structures = structures[:split_idx]\n",
    "    test_structures = structures[split_idx:]\n",
    "\n",
    "    # Derive output file names\n",
    "    input_name = os.path.basename(input_file).split('.')[0]  # Remove file extension\n",
    "    train_file = os.path.join(f\"{input_name}_train.xyz\")\n",
    "    test_file = os.path.join(f\"{input_name}_test.xyz\")\n",
    "\n",
    "    # Write to output files\n",
    "    write(train_file, train_structures)\n",
    "    write(test_file, test_structures)\n",
    "\n",
    "    print(f\"Split complete: {len(train_structures)} training structures, {len(test_structures)} test structures.\")\n",
    "    print(f\"Saved to:\\n  - Training set: {train_file}\\n  - Test set: {test_file}\")\n",
    "\n"
   ]
  },
  {
   "cell_type": "code",
   "execution_count": null,
   "id": "d73fb5ab-1aa4-47cb-b6ee-a4956c9e1b6b",
   "metadata": {},
   "outputs": [],
   "source": [
    "split_xyz('bulk_cryst.xyz', 0.65)"
   ]
  },
  {
   "cell_type": "code",
   "execution_count": null,
   "id": "2d270a7b-103b-471e-aec6-ebab36adf415",
   "metadata": {},
   "outputs": [],
   "source": [
    "structures=read('bulk_cryst_train.xyz', ':')\n",
    "print(f\"Loaded {len(structures)} C structures.\")"
   ]
  },
  {
   "cell_type": "markdown",
   "id": "0ec02563-f8cd-4b70-ad61-96c103420d10",
   "metadata": {},
   "source": [
    "#### Compute SOAP descriptors and Energy per atom"
   ]
  },
  {
   "cell_type": "markdown",
   "id": "afbf4dc1-8c56-4320-83b2-82b86ccbb9db",
   "metadata": {},
   "source": [
    "#### We have a total energy of the structure. However, in order to learn our fitting coefficients, we need a decomposition of energy. What if we simply assume that energy can be devided by the number of atoms in the structure?\n",
    "We assign per-atom energies by dividing the total energy of the structure equally among its atoms (simple assumption). Then each atom gets a SOAP descriptor. \n",
    "\n"
   ]
  },
  {
   "cell_type": "code",
   "execution_count": null,
   "id": "d802f5cd-af86-4ad1-8607-d86e98ef066b",
   "metadata": {},
   "outputs": [],
   "source": [
    "X_all=[] # List of arrays\n",
    "e_all=[] # List of atomic energies\n",
    "\n",
    "for atoms in structures:\n",
    "    E_total = atoms.get_potential_energy()\n",
    "    \n",
    "    # Get per-atom SOAP (unnormalized)\n",
    "    desc = soap_descriptor.calc(atoms, descriptor_only=True)\n",
    "    X_atoms = desc['data']\n",
    "    # Assign per-atom energies equally (can be improved!)\n",
    "    E_per_atom = E_total / len(atoms)\n",
    "    e_atoms = np.full(len(atoms), E_per_atom)\n",
    "\n",
    "    X_all.append(X_atoms)\n",
    "    e_all.append(e_atoms)\n"
   ]
  },
  {
   "cell_type": "code",
   "execution_count": null,
   "id": "3f598ce8-b03e-40e7-b23a-7229a6010f8d",
   "metadata": {},
   "outputs": [],
   "source": [
    "print( \"Number of SOAP vectors:\", sum([x.shape[0] for x in X_all]))\n",
    "print( \"SOAP vector dimensions:\", X_all[0].shape[1])"
   ]
  },
  {
   "cell_type": "code",
   "execution_count": null,
   "id": "9a9dc138-bec0-4bca-9902-a80e347850b4",
   "metadata": {},
   "outputs": [],
   "source": [
    "# Stack all training data\n",
    "X_train = np.vstack(X_all)   # shape (N_atoms_total, D)\n",
    "e_train = np.concatenate(e_all) \n",
    "print(\"X_train shape:\", X_train.shape)\n",
    "print(\"e_train shape:\", e_train.shape)"
   ]
  },
  {
   "cell_type": "markdown",
   "id": "a2974272-f3e1-4087-8120-f22e411f5985",
   "metadata": {},
   "source": [
    "### Define SOAP Kernel and Train GAP"
   ]
  },
  {
   "cell_type": "markdown",
   "id": "6475dd5f-0a7f-45d9-b72d-ac2ac06b4969",
   "metadata": {},
   "source": [
    "### We need to compute the SOAP kernel between each pair of training descriptors "
   ]
  },
  {
   "cell_type": "markdown",
   "id": "84c7f8c2-ec58-4f3d-8d26-71c559bc920f",
   "metadata": {},
   "source": [
    "#### The resulting matrix K is a kernel matrix, where each entry K[i, j] measures similarity between atomic environments i and j."
   ]
  },
  {
   "cell_type": "code",
   "execution_count": null,
   "id": "ccc395a6-9165-4db2-b526-1592f4138212",
   "metadata": {},
   "outputs": [],
   "source": [
    "# SOAP kernel exponent and regularization (try different regularization, for instance, 1e-5)\n",
    "zeta = 4\n",
    "sigma_n = 1e-1"
   ]
  },
  {
   "cell_type": "code",
   "execution_count": null,
   "id": "e9b9751a-1ea0-4f1b-9a96-42f149a1693f",
   "metadata": {},
   "outputs": [],
   "source": [
    "def soap_kernel_matrix(X1, X2, zeta=4):\n",
    "    K = np.dot(X1, X2.T)\n",
    "    return K ** zeta\n"
   ]
  },
  {
   "cell_type": "code",
   "execution_count": null,
   "id": "eacf2a50-fb10-49d1-8502-ad81a503e1cc",
   "metadata": {},
   "outputs": [],
   "source": [
    "# Compute SOAP kernel\n",
    "K = soap_kernel_matrix(X_train, X_train, zeta=zeta)\n",
    "\n",
    "# Add regularization\n",
    "K += sigma_n**2 * np.eye(len(X_train))\n",
    "\n"
   ]
  },
  {
   "cell_type": "markdown",
   "id": "1b9d2e6c-695f-47b3-b1f5-7fd798810b59",
   "metadata": {},
   "source": [
    "#### Visualize the Kernel Matrix"
   ]
  },
  {
   "cell_type": "code",
   "execution_count": null,
   "id": "231f8614-ab56-4ad6-bc08-36d9eba4a158",
   "metadata": {},
   "outputs": [],
   "source": [
    "plt.figure(figsize=(6, 5))\n",
    "plt.imshow(K[:20, :20], cmap='viridis')\n",
    "plt.title(\"SOAP Kernel Matrix (first 20 atoms)\")\n",
    "plt.colorbar()\n",
    "plt.tight_layout()\n",
    "plt.show()\n"
   ]
  },
  {
   "cell_type": "markdown",
   "id": "2e58adee-b23b-4a68-8d5a-0155605a8783",
   "metadata": {},
   "source": [
    "The fitting coefficients can be then obtained from matrix inversion:\n",
    "$$\n",
    "\\alpha = (K + \\sigma^2 I)^{-1} y\n",
    "$$\n",
    "- $\\alpha$ is a weight vector (length = number of training data points)              \n",
    "- $ K $ is a kernel matrix, with entries $ K_{ij} = k(\\mathbf{x}_i, \\mathbf{x}_j)$\n",
    "\n",
    "- $\\sigma^2$ is a regularization parameter\n",
    "- $I$ - Identity matrix (same shape as \\( K \\))                                \n",
    "- $ y$ - vector of training targets (e.g., atomic energies)"
   ]
  },
  {
   "cell_type": "markdown",
   "id": "0e6dc948-e20a-4921-9f52-22e100440abe",
   "metadata": {},
   "source": [
    "#### Instead of directly computing the inverse, we use Cholesky decomposition, which expresses the matrix as a product of a lower-triangular matrix L and its transpose L$^⊤$:"
   ]
  },
  {
   "cell_type": "markdown",
   "id": "d059f053-8ec5-4c7a-9738-b1dec5505c3f",
   "metadata": {},
   "source": [
    "\n",
    "\n",
    "**Cholesky decomposition**:\n",
    "\n",
    "$$\n",
    "K + \\sigma_n^2 I = L L^\\top\n",
    "$$\n",
    "\n",
    "We then solve the system in two steps:\n",
    "\n",
    "$$\n",
    "L \\mathbf{z} = \\mathbf{y}\n",
    "$$\n",
    "\n",
    "Then:\n",
    "\n",
    "$$\n",
    "L^\\top \\boldsymbol{\\alpha} = \\mathbf{z}\n",
    "$$\n"
   ]
  },
  {
   "cell_type": "code",
   "execution_count": null,
   "id": "594c7e50-25f7-4792-8b93-7a8d175848d7",
   "metadata": {},
   "outputs": [],
   "source": [
    "L = np.linalg.cholesky(K) \n",
    "z = np.linalg.solve(L, e_train) # solve \n",
    "\n",
    "alpha = np.linalg.solve(L.T, z)  # we basically got our model!\n"
   ]
  },
  {
   "cell_type": "code",
   "execution_count": null,
   "id": "a2314161-df18-4789-a828-68ac86a48b8f",
   "metadata": {},
   "outputs": [],
   "source": [
    "model1=alpha.copy() #store the model\n",
    "print(\"Alpha is a vector of the same length of our energies:\", alpha.shape)"
   ]
  },
  {
   "cell_type": "markdown",
   "id": "2c01b1cc-8157-4998-b3d4-ba81e176c88a",
   "metadata": {},
   "source": [
    "**Now that we have our $\\alpha$ we can actually predict the energy of system based on our freshly fitted model**"
   ]
  },
  {
   "cell_type": "code",
   "execution_count": null,
   "id": "d86cbf66-64be-4f1c-a235-feb942ccf1dc",
   "metadata": {},
   "outputs": [],
   "source": [
    "def predict_structure_energy(atoms, descriptor, X_train_all, alpha, zeta=4):\n",
    "    \"\"\"Predict total energy for a new structure using our model.\"\"\"\n",
    "    desc = descriptor.calc(atoms,properties=['energy'], descriptor_only=True)\n",
    "  \n",
    "    X_test = desc['data']  \n",
    "    \n",
    "    # Kernel between test atoms and training atoms\n",
    "    K_test = soap_kernel_matrix(X_test, X_train_all, zeta=zeta) \n",
    "    # Predict local energies and sum\n",
    "    local_energies = np.dot(K_test, alpha) \n",
    "    total_energy = np.sum(local_energies)\n",
    "    return total_energy"
   ]
  },
  {
   "cell_type": "markdown",
   "id": "eb75cfc0-4391-444c-87d7-ba03c9b6282b",
   "metadata": {},
   "source": [
    "#### Predict the enegy of a new structure"
   ]
  },
  {
   "cell_type": "code",
   "execution_count": null,
   "id": "7721ff86-2ad5-4933-ad5e-3c0ed2054600",
   "metadata": {},
   "outputs": [],
   "source": [
    "test_structures = read(\"bulk_cryst_test.xyz\", index=\":100\")"
   ]
  },
  {
   "cell_type": "code",
   "execution_count": null,
   "id": "3d4fd2c9-d845-45d3-893c-910af2191797",
   "metadata": {},
   "outputs": [],
   "source": [
    "E_preds = [predict_structure_energy(a, soap_descriptor, X_train, alpha) for a in test_structures]\n",
    "E_pred_atom = [E_preds[i]/len(test_structures[i]) for i in range(0, len(test_structures))]\n",
    "print(f\"We predicted {len(E_preds)} energies of the test set using our GAP model\")"
   ]
  },
  {
   "cell_type": "code",
   "execution_count": null,
   "id": "65386439-5135-41bc-92c1-ad432950b0dc",
   "metadata": {},
   "outputs": [],
   "source": [
    "E_dft = [a.get_potential_energy()/len(a) for a in test_structures]"
   ]
  },
  {
   "cell_type": "code",
   "execution_count": null,
   "id": "d128f2c2-9abd-49a9-8ff8-4f9cded949b7",
   "metadata": {},
   "outputs": [],
   "source": [
    "from sklearn.metrics import r2_score, mean_squared_error\n",
    "def parity_plot(y_true, y_pred, title=\"Parity Plot\", xlabel=\"DFT Energy (eV)\", ylabel=\"Predicted Energy (eV)\"):\n",
    "    y_true = np.array(y_true)\n",
    "    y_pred = np.array(y_pred)\n",
    "    # Compute metrics\n",
    "    r2 = r2_score(y_true, y_pred)\n",
    "    rmse = np.sqrt(mean_squared_error(y_true, y_pred))\n",
    "    # Plot\n",
    "    plt.figure(figsize=(6, 6))\n",
    "    plt.scatter(y_true, y_pred, s=10, alpha=0.7, label='Data')\n",
    "    plt.plot([y_true.min(), y_true.max()], [y_true.min(), y_true.max()], 'k--', lw=2, label='Ideal')\n",
    "    plt.xlabel(xlabel)\n",
    "    plt.ylabel(ylabel)\n",
    "    plt.title(title)\n",
    "    plt.grid(True, linestyle='--', alpha=0.3)\n",
    "    plt.axis('equal')\n",
    "    plt.legend()\n",
    "    plt.text(0.05, 0.95, f\"$R^2$ = {r2:.3f}\\nRMSE = {rmse:.3f} eV\",\n",
    "             transform=plt.gca().transAxes,\n",
    "             verticalalignment='top',\n",
    "             bbox=dict(boxstyle=\"round\", facecolor='white', alpha=0.8))\n",
    "    plt.tight_layout()\n",
    "    plt.show()"
   ]
  },
  {
   "cell_type": "code",
   "execution_count": null,
   "id": "819dd47d-cae4-430d-a6f5-09e4c1e5e46d",
   "metadata": {},
   "outputs": [],
   "source": [
    "parity_plot(E_dft, E_pred_atom)"
   ]
  },
  {
   "cell_type": "markdown",
   "id": "cf50972f-38c5-4a7e-a9b1-f4a0823fd42d",
   "metadata": {},
   "source": [
    "### Not bad! We got a pretty good fit considering the amount of data and our asumptions. "
   ]
  },
  {
   "cell_type": "markdown",
   "id": "73fa481b-9ee7-4d12-aa7d-67447d8c9197",
   "metadata": {},
   "source": [
    "## Try to change the regularization $\\sigma$ and refit the model. Will the RMSE change?  "
   ]
  },
  {
   "cell_type": "markdown",
   "id": "2ca44124-a832-4e07-b299-aad296f253f9",
   "metadata": {},
   "source": [
    "Let's wrap the process into a function"
   ]
  },
  {
   "cell_type": "code",
   "execution_count": null,
   "id": "4dcd294f-3ed0-494d-937a-1f232d5d8fa3",
   "metadata": {},
   "outputs": [],
   "source": [
    "def train_gap(X_train, e_train, zeta, sigma_n):\n",
    "    \"\"\"\n",
    "    Parameters:\n",
    "    ----------\n",
    "    X_train : array-like, shape (n_samples, ...)\n",
    "        Training data (e.g., list of SOAP descriptors or atomic environments).\n",
    "    \n",
    "    e_train : array-like, shape (n_samples,)\n",
    "        Target values (e.g., training energies or forces).\n",
    "    \n",
    "    zeta : float\n",
    "        SOAP kernel hyperparameter (e.g., power of the dot product).\n",
    "    \n",
    "    sigma_n : float\n",
    "        Noise level (regularization term).\n",
    "    \n",
    "    kernel_func : callable\n",
    "        Function that computes the kernel matrix. Signature:\n",
    "        kernel_func(X1, X2, zeta) -> K_matrix\n",
    "    \n",
    "    Returns:\n",
    "    -------\n",
    "    alpha : ndarray, shape (n_samples,)\n",
    "        Coefficients for prediction: used in K(X_test, X_train) @ alpha.\n",
    "    \n",
    "    \"\"\"\n",
    "    \n",
    "    K = soap_kernel_matrix(X_train, X_train, zeta=zeta)\n",
    "    \n",
    "    K += sigma_n**2 * np.eye(len(X_train))\n",
    "    \n",
    "    L = np.linalg.cholesky(K)\n",
    "    \n",
    "    z = np.linalg.solve(L, e_train)\n",
    "    alpha = np.linalg.solve(L.T, z)\n",
    "    \n",
    "    return alpha"
   ]
  },
  {
   "cell_type": "code",
   "execution_count": null,
   "id": "2540e2fe-85ba-4884-9b99-37cfe772f1ae",
   "metadata": {},
   "outputs": [],
   "source": [
    "# Train a new model using train_gap function \n",
    "sigma_n =  # change the regularization\n",
    "new_model =   #obtain new fitting coefficients alpha\n",
    "\n"
   ]
  },
  {
   "cell_type": "code",
   "execution_count": null,
   "id": "a5333025-4e78-4b0a-ac49-3c9768b5fc61",
   "metadata": {},
   "outputs": [],
   "source": [
    "#use predict_structure(atoms, soap_descriptor, X_train, alpha) \n",
    "E_preds = [] #predict the energies of the test set \n",
    "print(f\"We predicted {len(E_preds)} energies of the test set using our GAP model\")"
   ]
  },
  {
   "cell_type": "code",
   "execution_count": null,
   "id": "a56d77b0-fcb3-41e8-b098-570479e36bed",
   "metadata": {},
   "outputs": [],
   "source": [
    "parity_plot(E_dft, E_preds)"
   ]
  },
  {
   "cell_type": "markdown",
   "id": "63660f48-507c-4a66-a543-2481822343c0",
   "metadata": {},
   "source": [
    "## Test the model on amorphous carbon structures \n",
    "Until now, we have used a test set composed of structures similar to the training set — often with nearly identical atomic environments. This makes it easier for the model to interpolate and achieve low RMSE. Can the model accurately predict energies for systems that are structurally different, such as amorphous carbon or surfaces?"
   ]
  },
  {
   "cell_type": "code",
   "execution_count": null,
   "id": "d93a8880-c459-4e5a-9598-024ffe8aac51",
   "metadata": {},
   "outputs": [],
   "source": [
    "test_amorphous=read('a_C_db.xyz', ':100')"
   ]
  },
  {
   "cell_type": "code",
   "execution_count": null,
   "id": "6d203097-ba6b-47f3-ad64-082020e722b1",
   "metadata": {},
   "outputs": [],
   "source": [
    "E_preds = [predict_structure_energy(a, soap_descriptor, X_train, model1)/len(a) for a in test_amorphous]\n",
    "print(f\"We predicted {len(E_preds)} energies of the test set using our GPR model\")"
   ]
  },
  {
   "cell_type": "code",
   "execution_count": null,
   "id": "f9affccf-4d42-4deb-bc6a-221be37c5997",
   "metadata": {},
   "outputs": [],
   "source": [
    "E_dft = [a.get_potential_energy()/len(a) for a in test_amorphous]"
   ]
  },
  {
   "cell_type": "code",
   "execution_count": null,
   "id": "7cf5a3bc-5f01-43ad-9c6b-9101832e4a93",
   "metadata": {
    "scrolled": true
   },
   "outputs": [],
   "source": [
    "parity_plot(E_dft, E_preds)"
   ]
  },
  {
   "cell_type": "markdown",
   "id": "3de3e3c9-a29f-4061-836a-c2bbb9b51a30",
   "metadata": {},
   "source": [
    "Let's have a look how these structures in database look. Clearly very different from what we have trained our model on! "
   ]
  },
  {
   "cell_type": "markdown",
   "id": "b765b38f-4a04-4005-a176-2c3123da8502",
   "metadata": {},
   "source": [
    "<img src=\"figures/bulk_amo_2.png\" width=\"300\"/> <img src=\"figures/bulk_amo_4.png\" width=\"300\"/> <img src=\"figures/bulk_cryst_1.png\" width=\"300\"/> <img src=\"figures/bulk_cryst_4.png\" width=\"300\"/>"
   ]
  },
  {
   "cell_type": "markdown",
   "id": "c114a5b9-7e93-4a66-b379-2f00e29ec7d1",
   "metadata": {},
   "source": [
    "## Fit GAP with the amorphous carbons structures\n",
    "Let's quickly refit the model on this data"
   ]
  },
  {
   "cell_type": "code",
   "execution_count": null,
   "id": "a5359949-36ea-4199-959a-f8c7fc0f5c57",
   "metadata": {},
   "outputs": [],
   "source": [
    "split_xyz('a_C_db.xyz', 0.75)"
   ]
  },
  {
   "cell_type": "code",
   "execution_count": null,
   "id": "e7bb11b4-0055-4959-a78b-308e4e2a01ef",
   "metadata": {},
   "outputs": [],
   "source": [
    "# split_xyz('a_C_db.xyz', 0.25)\n",
    "structures_amo = read('a_C_db_train.xyz', ':')\n",
    "structures_test = read('a_C_db_test.xyz', ':')\n",
    "X_all=[] # List of arrays\n",
    "e_all=[] # List of atomic energies\n",
    "zeta=4\n",
    "sigma_n=1e-1\n",
    "for atoms in structures_amo:\n",
    "    E_total = atoms.get_potential_energy()\n",
    "    \n",
    "    # Get per-atom SOAP (unnormalized)\n",
    "    desc = soap_descriptor.calc(atoms, descriptor_only=True)\n",
    "    X_atoms=desc['data']\n",
    "    # Assign per-atom energies equally (can be improved!)\n",
    "    E_per_atom = E_total / len(atoms)\n",
    "    e_atoms = np.full(len(atoms), E_per_atom)\n",
    "\n",
    "    X_all.append(X_atoms)\n",
    "    e_all.append(e_atoms)\n",
    "X_train = np.vstack(X_all)   # shape (N_atoms_total, D)\n",
    "e_train = np.concatenate(e_all) \n",
    "model_amo = train_gap(X_train, e_train, zeta, 1e-1)\n",
    "E_preds = [predict_structure_energy(a, soap_descriptor, X_train, model_amo)/len(a) for a in structures_test]\n",
    "print(f\"We predicted {len(E_preds)} energies of the test set using our GPR model\")\n",
    "E_dft = [a.get_potential_energy()/len(a) for a in structures_test]\n",
    "parity_plot(E_dft, E_preds)"
   ]
  },
  {
   "cell_type": "markdown",
   "id": "704fdb87-1cbb-4fb3-9f5d-7ea03530bbe3",
   "metadata": {},
   "source": [
    "### It seems that our assumption on decomposition of total energies was too simplified.  "
   ]
  },
  {
   "cell_type": "markdown",
   "id": "944f4374-577f-4a6e-80a4-62ee9bc47158",
   "metadata": {},
   "source": [
    "# Gaussian Approximation Potential (GAP)"
   ]
  },
  {
   "cell_type": "markdown",
   "id": "5528caa4-f421-4229-9098-c7230d161672",
   "metadata": {},
   "source": [
    "## Sparse GPR with SOAP Descriptors using gap_fit and quippy"
   ]
  },
  {
   "cell_type": "markdown",
   "id": "8a11d494-ecd2-4989-a6ab-ae59f5f6149b",
   "metadata": {},
   "source": [
    "In GAP, we don't use all atomic environments to define the regression basis. Instead, we select a subset of atomic environments — **the sparse set** — to serve as representative points. But why Sparse GPR?\n",
    "\n",
    "- **Computational Efficiency**\n",
    "\n",
    "Full GPR scales like $O(N^3$) with N the number of data points.\n",
    "\n",
    "By selecting $M≪N$ sparse points, GAP reduces the scaling to $O(NM^2)$, where M is the number of sparse environments.\n",
    "\n",
    "This makes training and prediction feasible for thousands of atoms.\n",
    "\n",
    "- **Avoiding Redundancy**\n",
    "\n",
    "Many atomic environments are very similar — using all of them would just increase the model size without adding new information.\n",
    "\n",
    "The sparse set acts like a dictionary of distinct environments.\n",
    "\n",
    "- **Improving Generalization**\n",
    "\n",
    "A sparse set made of diverse, informative environments allows the model to generalize better to unseen structures.\n",
    "\n",
    "If chosen well (e.g., via CUR decomposition or clustering), the model:\n",
    "\n",
    "- avoids overfitting,\n",
    "\n",
    "- focuses on physically meaningful variations\n"
   ]
  },
  {
   "cell_type": "code",
   "execution_count": null,
   "id": "f7f4e5f2-b932-4677-a992-7ad3418371c5",
   "metadata": {},
   "outputs": [],
   "source": [
    "from ase.io import read\n",
    "from quippy.descriptors import Descriptor\n",
    "import numpy as np\n",
    "from sklearn.decomposition import PCA\n",
    "import matplotlib.pyplot as plt\n",
    "\n",
    "\n",
    "all_structures = read(\"a_C_db_test.xyz\", \":\")\n",
    "\n",
    "# Extract all atoms and calculate SOAP descriptors\n",
    "soap_str = \"soap cutoff=3.0 l_max=4 n_max=4 atom_sigma=0.5 n_species=1 species_Z=6\"  \n",
    "soap = Descriptor(soap_str)\n",
    "\n",
    "soap_vectors = []\n",
    "for at in all_structures:\n",
    "    desc = soap.calc(at)\n",
    "    soap_vectors.append(desc['data'])\n",
    "\n",
    "soap_all = np.vstack(soap_vectors) \n"
   ]
  },
  {
   "cell_type": "code",
   "execution_count": null,
   "id": "c0917812-04df-4f83-8060-a671be7e1b50",
   "metadata": {},
   "outputs": [],
   "source": [
    "# Simple random selection\n",
    "n_sparse = 500\n",
    "np.random.seed(42)\n",
    "sparse_indices = np.random.choice(len(soap_all), size=n_sparse, replace=False)\n"
   ]
  },
  {
   "cell_type": "code",
   "execution_count": null,
   "id": "73810f43-e0a8-4387-8e58-417d6a64e8de",
   "metadata": {},
   "outputs": [],
   "source": [
    "pca = PCA(n_components=2)\n",
    "soap_pca = pca.fit_transform(soap_all)\n",
    "\n",
    "# Mark sparse points\n",
    "sparse_pca = soap_pca[sparse_indices]\n"
   ]
  },
  {
   "cell_type": "code",
   "execution_count": null,
   "id": "3133738a-aa13-4803-844b-0dfc62505caf",
   "metadata": {},
   "outputs": [],
   "source": [
    "plt.figure(figsize=(8, 6))\n",
    "plt.scatter(soap_pca[:, 0], soap_pca[:, 1], s=10, alpha=0.3, label='All Environments')\n",
    "plt.scatter(sparse_pca[:, 0], sparse_pca[:, 1], s=30, c='red', label='Sparse Set', edgecolors='k')\n",
    "plt.xlabel(\"PCA Component 1\")\n",
    "plt.ylabel(\"PCA Component 2\")\n",
    "plt.title(\"SOAP Descriptor Space with random selection of atomic environments\")\n",
    "plt.legend()\n",
    "plt.tight_layout()\n",
    "plt.show()\n"
   ]
  },
  {
   "cell_type": "markdown",
   "id": "697a8966-64f6-4188-abcb-1d8b40a6c0f7",
   "metadata": {},
   "source": [
    "### Leverage Score Selection from SOAP Vectors"
   ]
  },
  {
   "cell_type": "markdown",
   "id": "4840ca08-1067-48e5-87cf-a6f02ddf791d",
   "metadata": {},
   "source": [
    "We need to find main patterns in the data that capture most variation.\n",
    "- **X matrix**: rows = atomic environments, columns = SOAP features.\n",
    "\n",
    "- **SVD decomposes** the matrix \\( X \\) into three parts:\n",
    "  \\[\n",
    "  A = U $\\Sigma$ V$^T$\n",
    "  \\]\n",
    "  - \\( U \\): how each row relates to main directions.\n",
    "  - \\( $\\Sigma$ \\): importance of each direction (singular values).\n",
    "  - \\( V$^T$ \\): main directions expressed as combinations of features.\n",
    "\n",
    "- We keep only top \\( k \\) directions (number of our sparse data points) to reduce data size while preserving main structure.\n",
    "\n",
    "- **Leverage scores** measure how strongly each row contributes to these main directions — high scores indicate important or unique environments.\n",
    "\n",
    "- This helps select a smaller, representative subset of environments for efficient modeling and analysis.\n"
   ]
  },
  {
   "cell_type": "code",
   "execution_count": null,
   "id": "dc009a33-919b-4611-b2c2-07aaeb1f0eef",
   "metadata": {},
   "outputs": [],
   "source": [
    "import numpy as np\n",
    "from sklearn.utils.extmath import randomized_svd\n",
    "\n",
    "# Center the SOAP matrix by subtracting the mean of each feature (column-wise).\n",
    "X = soap_all - np.mean(soap_all, axis=0)\n",
    "\n",
    "# Apply randomized SVD\n",
    "U, S, VT = randomized_svd(X, n_components=20, random_state=42)\n",
    "\n",
    "# Compute leverage scores, rows importance\n",
    "leverage_scores = np.sum(U**2, axis=1)  # shape: (N_atoms,)\n",
    "\n",
    "# Select top-k rows with highest leverage scores\n",
    "n_sparse = 500\n",
    "sparse_indices = np.argsort(leverage_scores)[-n_sparse:]"
   ]
  },
  {
   "cell_type": "code",
   "execution_count": null,
   "id": "2df11d9c-2c7f-4ab1-9540-78710b0115b6",
   "metadata": {},
   "outputs": [],
   "source": [
    "from sklearn.decomposition import PCA\n",
    "import matplotlib.pyplot as plt\n",
    "\n",
    "# Project to 2D\n",
    "pca = PCA(n_components=2)\n",
    "X_pca = pca.fit_transform(X)\n",
    "sparse_pca = X_pca[sparse_indices]\n",
    "\n",
    "# Plot\n",
    "plt.figure(figsize=(8, 6))\n",
    "plt.scatter(X_pca[:, 0], X_pca[:, 1], s=10, alpha=0.2, label='All environments')\n",
    "plt.scatter(sparse_pca[:, 0], sparse_pca[:, 1], c='red', s=30, edgecolors='k', label='CUR-selected sparse set')\n",
    "plt.xlabel(\"PCA Component 1\")\n",
    "plt.ylabel(\"PCA Component 2\")\n",
    "plt.title(\" SVD Selection of Sparse Environments\")\n",
    "plt.legend()\n",
    "plt.tight_layout()\n",
    "plt.show()\n"
   ]
  },
  {
   "cell_type": "markdown",
   "id": "f9ade12e-c965-4757-b47d-b7fcdd3dbecd",
   "metadata": {},
   "source": [
    "## Use gap_fit code to fit GAP "
   ]
  },
  {
   "cell_type": "code",
   "execution_count": null,
   "id": "d39b41ed-c7af-4944-9d92-2d294b2fc9f7",
   "metadata": {},
   "outputs": [],
   "source": [
    "import os\n",
    "new_path = \"/home/jovyan/shared/installations/bin\"\n",
    "\n",
    "# Append it to the PATH environment variable if it's not already there\n",
    "if new_path not in os.environ[\"PATH\"]:\n",
    "    os.environ[\"PATH\"] += os.pathsep + new_path\n",
    "\n",
    "# Confirm the path was added\n",
    "print(os.environ[\"PATH\"])\n"
   ]
  },
  {
   "cell_type": "code",
   "execution_count": 13,
   "id": "60e00be2-f6fc-4fa4-a6b7-4edce0130da6",
   "metadata": {},
   "outputs": [
    {
     "name": "stdout",
     "output_type": "stream",
     "text": [
      "libAtoms::Hello World: 2025-08-07 21:05:37\n",
      "libAtoms::Hello World: git version  https://github.com/libAtoms/QUIP,v0.9.14-dirty\n",
      "libAtoms::Hello World: QUIP_ARCH    linux_x86_64_gfortran_openmp\n",
      "libAtoms::Hello World: compiled on  Jun 15 2023 at 19:28:03\n",
      "libAtoms::Hello World: OpenMP parallelisation with 1 threads\n",
      "WARNING: libAtoms::Hello World: environment variable OMP_STACKSIZE not set explicitly. The default value - system and compiler dependent - may be too small for some applications.\n",
      "libAtoms::Hello World: Random Seed = 75937840\n",
      "libAtoms::Hello World: global verbosity = 0\n",
      "\n",
      "Calls to system_timer will do nothing by default\n",
      "\n",
      "\n",
      "================================ Input parameters ==============================\n",
      "\n",
      "config_file =\n",
      "atoms_filename = //MANDATORY//\n",
      "at_file = a_C_db_train.xyz\n",
      "gap = \"SOAP cutoff=3.0 l_max=4 n_max=4 atom_sigma=0.5 zeta=4 delta=1.0  n_species=1 species_Z=6   n_sparse=500 sparse_method=cur_points covariance_type=dot_product\"\n",
      "e0 = 0.0\n",
      "local_property0 = 0.0\n",
      "e0_offset = 0.0\n",
      "e0_method = isolated\n",
      "default_kernel_regularisation = //MANDATORY//\n",
      "default_sigma = \"0.001 0.01 0.0 0.0\"\n",
      "default_kernel_regularisation_local_property = 0.001\n",
      "default_local_property_sigma = 0.001\n",
      "sparse_jitter = 1.0e-10\n",
      "hessian_displacement = 1.0e-2\n",
      "hessian_delta = 1.0e-2\n",
      "baseline_param_filename = quip_params.xml\n",
      "core_param_file = quip_params.xml\n",
      "baseline_ip_args =\n",
      "core_ip_args =\n",
      "energy_parameter_name = free_energy\n",
      "local_property_parameter_name = local_property\n",
      "force_parameter_name = DUMMY\n",
      "virial_parameter_name = DUMMY\n",
      "stress_parameter_name = stress\n",
      "hessian_parameter_name = hessian\n",
      "config_type_parameter_name = config_type\n",
      "kernel_regularisation_parameter_name = sigma\n",
      "sigma_parameter_name = sigma\n",
      "force_mask_parameter_name = force_mask\n",
      "local_property_mask_parameter_name = local_property_mask\n",
      "parameter_name_prefix =\n",
      "config_type_kernel_regularisation =\n",
      "config_type_sigma =\n",
      "kernel_regularisation_is_per_atom = T\n",
      "sigma_per_atom = T\n",
      "do_copy_atoms_file = T\n",
      "do_copy_at_file = F\n",
      "sparse_separate_file = T\n",
      "sparse_use_actual_gpcov = F\n",
      "gap_file = gap_new.xml\n",
      "gp_file = dbs/C_GAP.xml\n",
      "verbosity = NORMAL\n",
      "rnd_seed = -1\n",
      "openmp_chunk_size = 0\n",
      "do_ip_timing = F\n",
      "template_file = template.xyz\n",
      "sparsify_only_no_fit = F\n",
      "dryrun = F\n",
      "condition_number_norm =\n",
      "linear_system_dump_file =\n",
      "mpi_blocksize_rows = 0\n",
      "mpi_blocksize_cols = 100\n",
      "mpi_print_all = F\n",
      "export_covariance = F\n",
      "\n",
      "========================================  ======================================\n",
      "\n",
      "\n",
      "============== Gaussian Approximation Potentials - Database fitting ============\n",
      "\n",
      "\n",
      "Initial parsing of command line arguments finished.\n",
      "Found 1 GAPs.\n",
      "Descriptors have been parsed\n",
      "XYZ file read\n",
      "Old GAP: {SOAP cutoff=3.0 l_max=4 n_max=4 atom_sigma=0.5 zeta=4 delta=1.0  n_species=1 species_Z=6   n_sparse=500 sparse_method=cur_points covariance_type=dot_product}\n",
      "New GAP: {SOAP cutoff=3.0 l_max=4 n_max=4 atom_sigma=0.5 zeta=4 delta=1.0  n_species=1 species_Z=6   n_sparse=500 sparse_method=cur_points covariance_type=dot_product n_species=1 Z=6 species_Z={6 }}\n",
      "Multispecies support added where requested\n",
      "\n",
      "===================== Report on number of descriptors found ====================\n",
      "\n",
      "---------------------------------------------------------------------\n",
      "Descriptor 1: SOAP cutoff=3.0 l_max=4 n_max=4 atom_sigma=0.5 zeta=4 delta=1.0  n_species=1 species_Z=6   n_sparse=500 sparse_method=cur_points covariance_type=dot_product n_species=1 Z=6 species_Z={6 }\n",
      "Number of descriptors:                        6982\n",
      "Number of partial derivatives of descriptors: 0\n",
      "\n",
      "========================================  ======================================\n",
      "\n",
      "\n",
      "========================= Memory Estimate (per process) ========================\n",
      "\n",
      "Descriptors\n",
      "Descriptor 1 :: x 51 6982 memory 2848 KB\n",
      "Descriptor 1 :: xPrime 51 0 memory 0  B\n",
      "Subtotal 2848 KB\n",
      "\n",
      "Covariances\n",
      "yY 500 112 memory 448 KB * 2\n",
      "yy 500 500 memory 2000 KB\n",
      "A 500 612 memory 2448 KB * 2\n",
      "Subtotal 7792 KB\n",
      "\n",
      "Peak1 3296 KB\n",
      "Peak2 7792 KB\n",
      "PEAK  7792 KB\n",
      "\n",
      "Free system memory  75 GB\n",
      "Total system memory 92 GB\n",
      "\n",
      "========================================  ======================================\n",
      "\n",
      "\n",
      "========== Report on number of target properties found in training XYZ: ========\n",
      "\n",
      "Number of target energies (property name: free_energy) found: 112\n",
      "Number of target local_properties (property name: local_property) found: 0\n",
      "Number of target forces (property name: DUMMY) found: 0\n",
      "Number of target virials (property name: DUMMY) found: 0\n",
      "Number of target Hessian eigenvalues (property name: hessian) found: 0\n",
      "\n",
      "================================= End of report ================================\n",
      "\n",
      "\n",
      "===== Report on per-configuration/per-atom sigma (error parameter) settings ====\n",
      "\n",
      "Number of per-configuration setting of energy_sigma found:     112\n",
      "Number of per-configuration setting of force_sigma found:      0\n",
      "Number of per-configuration setting of virial_sigma found:     112\n",
      "Number of per-configuration setting of hessian_sigma found:    0\n",
      "Number of per-configuration setting of local_propery_sigma found:0\n",
      "Number of per-atom setting of force_atom_sigma found:          0\n",
      "Number of per-component setting of force_component_sigma found:          0\n",
      "Number of per-component setting of virial_component_sigma found:          0\n",
      "\n",
      "================================= End of report ================================\n",
      "\n",
      "Started CUR decomposition\n",
      "cur_decomposition: iteration: 1, error: .60565347569457900E-020\n",
      "Finished CUR decomposition\n",
      "Cartesian coordinates transformed to descriptors\n",
      "Started sparse covariance matrix calculation of coordinate 1\n",
      "Covariance matrix 100% |********************|   0.4 /   0.4 s\n",
      "Finished sparse covariance matrix calculation of coordinate 1\n",
      "TIMER: gpFull_covarianceMatrix_sparse_Coordinate1_sparse  done in .41178300000000023 cpu secs, .41205922199878842 wall clock secs.\n",
      "TIMER: gpFull_covarianceMatrix_sparse_Coordinate1         done in .41182199999999991 cpu secs, .41208505199756473 wall clock secs.\n",
      "TIMER: gpFull_covarianceMatrix_sparse_FunctionValues      done in .19999999998354667E-005 cpu secs, .15900004655122757E-005 wall clock secs.\n",
      "TIMER: gpFull_covarianceMatrix_sparse                     done in .41190099999999985 cpu secs, .41218637197744101 wall clock secs.\n",
      "TIMER: Build linear system                                done in .25209999999999955E-002 cpu secs, .25220860261470079E-002 wall clock secs.\n",
      "Using LAPACK to solve QR\n",
      "TIMER: Solve linear system                                done in .82149999999998613E-002 cpu secs, .82282169605605304E-002 wall clock secs.\n",
      "TIMER: GP sparsify                                        done in .44148800000000010 cpu secs, .72858781297691166 wall clock secs.\n",
      "\n",
      "libAtoms::Finalise: 2025-08-07 21:05:39\n",
      "libAtoms::Finalise: Bye-Bye!\n"
     ]
    }
   ],
   "source": [
    "! gap_fit \\\n",
    "  energy_parameter_name=free_energy \\\n",
    "  force_parameter_name=DUMMY \\\n",
    "  virial_parameter_name=DUMMY \\\n",
    "  at_file=a_C_db_train.xyz \\\n",
    "  gap=\"SOAP cutoff=3.0 l_max=4 n_max=4 atom_sigma=0.5 zeta=4 delta=1.0  n_species=1 species_Z=6\\\n",
    "  n_sparse=500 sparse_method=cur_points covariance_type=dot_product\" \\\n",
    "  default_sigma={0.001 0.01 0.0 0.0} \\\n",
    "  e0=0.0 \\\n",
    "  do_copy_at_file=F \\\n",
    "  gp_file=C_GAP.xml"
   ]
  },
  {
   "cell_type": "code",
   "execution_count": null,
   "id": "cd8f78d9-86a7-4942-8b1a-687a2a6ac5f7",
   "metadata": {},
   "outputs": [],
   "source": [
    "import os\n",
    "os.environ[\"OPENBLAS_NUM_THREADS\"] = \"1\"\n",
    "os.environ[\"OMP_NUM_THREADS\"] = \"1\"\n",
    "os.environ[\"MKL_NUM_THREADS\"] = \"1\"\n",
    "os.environ[\"VECLIB_MAXIMUM_THREADS\"] = \"1\"\n",
    "os.environ[\"NUMEXPR_NUM_THREADS\"] = \"1\""
   ]
  },
  {
   "cell_type": "code",
   "execution_count": null,
   "id": "e72fc1d1-98bd-443d-9101-76b0a7ff4918",
   "metadata": {},
   "outputs": [],
   "source": [
    "import ase.io\n",
    "from ase.optimize.bfgs import BFGS\n",
    "from quippy.potential import Potential\n",
    "import numpy as np\n",
    "import matplotlib.pyplot as plt\n"
   ]
  },
  {
   "cell_type": "code",
   "execution_count": null,
   "id": "20b720c5-5789-4796-80ef-06c02b4b4b5b",
   "metadata": {},
   "outputs": [],
   "source": [
    "atoms = ase.io.read(\"a_C_db_test.xyz\", ':')\n",
    "E_dft = []\n",
    "E_dft = [a.get_potential_energy()/len(a) for a in atoms]"
   ]
  },
  {
   "cell_type": "code",
   "execution_count": 14,
   "id": "7ac37e78-787d-4fc6-a297-0a4243ac6070",
   "metadata": {},
   "outputs": [],
   "source": [
    "E_pred = []\n",
    "calc = Potential(param_filename=\"C_GAP.xml\")\n",
    "atoms = ase.io.read(\"a_C_db_test.xyz\", ':')\n",
    "for atom in atoms:\n",
    "    atom.calc = calc\n",
    "    e_bulk = atom.get_potential_energy()/len(atom)\n",
    "    E_pred.append(e_bulk)\n",
    "    # print(\"Final energy:\", e_bulk)\n"
   ]
  },
  {
   "cell_type": "code",
   "execution_count": null,
   "id": "274c3cf3-e972-445a-b519-16215c33ac7f",
   "metadata": {},
   "outputs": [],
   "source": [
    "parity_plot(E_dft, E_pred)"
   ]
  }
 ],
 "metadata": {
  "kernelspec": {
   "display_name": "Python 3 (ipykernel)",
   "language": "python",
   "name": "python3"
  },
  "language_info": {
   "codemirror_mode": {
    "name": "ipython",
    "version": 3
   },
   "file_extension": ".py",
   "mimetype": "text/x-python",
   "name": "python",
   "nbconvert_exporter": "python",
   "pygments_lexer": "ipython3",
   "version": "3.11.9"
  }
 },
 "nbformat": 4,
 "nbformat_minor": 5
}
