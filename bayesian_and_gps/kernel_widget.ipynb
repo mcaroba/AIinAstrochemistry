{
 "cells": [
  {
   "cell_type": "code",
   "execution_count": 104,
   "metadata": {},
   "outputs": [
    {
     "name": "stdout",
     "output_type": "stream",
     "text": [
      "Already installed\n"
     ]
    }
   ],
   "source": [
    "try:\n",
    "    import bayes_nanospace2025\n",
    "    print(\"Already installed\")\n",
    "except ImportError:\n",
    "    %pip install -q \"bayes_nanospace2025 @ git+https://github.com/Mads-PeterVC/nanospace2025.git\" # Install from GitHub. \n",
    "    print(\"Installed bayes_nanospace2025 from GitHub\")"
   ]
  },
  {
   "cell_type": "code",
   "execution_count": null,
   "metadata": {},
   "outputs": [],
   "source": [
    "import plotly.graph_objects as go\n",
    "from plotly.subplots import make_subplots\n",
    "from bayes_nanospace2025 import GaussianProcess, RadialBasis, Constant, Noise\n",
    "import numpy as np"
   ]
  },
  {
   "cell_type": "markdown",
   "metadata": {},
   "source": [
    "<div class=\"alert alert-block alert-danger\"> <b>Warning:</b> If packages weren't already installed, please refresh this page in your <b> browser</b>, you shouldn't need to restart the Jupyter kernel, as otherwise the widgets used won't show properly. Sorry for the inconvenience! </div>"
   ]
  },
  {
   "cell_type": "code",
   "execution_count": null,
   "metadata": {},
   "outputs": [],
   "source": [
    "def make_gp(length_scale, amplitude, noise):\n",
    "    \"\"\"\n",
    "    Create a Gaussian Process kernel with the specified parameters.\n",
    "    \n",
    "    Parameters:\n",
    "    - length_scale: Length scale of the radial basis function.\n",
    "    - amplitude: Amplitude of the constant kernel.\n",
    "    - noise: Noise level of the Gaussian Process.\n",
    "    \n",
    "    Returns:\n",
    "    A GaussianProcess object with the specified kernel.\n",
    "    \"\"\"\n",
    "    kernel = Constant(amplitude) * RadialBasis(length_scale=length_scale) + Noise(noise)\n",
    "    return GaussianProcess(kernel=kernel, prior_mean=0.0)"
   ]
  },
  {
   "cell_type": "code",
   "execution_count": null,
   "metadata": {},
   "outputs": [],
   "source": [
    "class KernelWidget:\n",
    "\n",
    "    def __init__(self, X, y, X_query):\n",
    "        \"\"\"\n",
    "        Initialize the KernelWidget with data and query points.\n",
    "        \n",
    "        Parameters:\n",
    "        - X: Input data points.\n",
    "        - y: Output values corresponding to X.\n",
    "        - X_query: Points where predictions will be made.\n",
    "        \"\"\"\n",
    "        self.X = X\n",
    "        self.y = y\n",
    "        self.X_query = X_query\n",
    "\n",
    "    def visible_traces(self, fig, frame_index):\n",
    "        return [trace.name in [f'frame-{frame_index}', 'data'] for trace in fig.data]\n",
    "    \n",
    "    def add_frame_traces(self, fig, kp, i):\n",
    "        gp = make_gp(**kp)\n",
    "        gp.condition(X_obs=self.X, y_obs=self.y)\n",
    "        prediction = gp.predict(X_query=self.X_query)\n",
    "\n",
    "        sigma = np.sqrt(prediction.variance)\n",
    "        mean = prediction.mean\n",
    "        covariance = prediction.covariance\n",
    "\n",
    "        name = f'frame-{i}'\n",
    "\n",
    "        # mean trace\n",
    "        trace = go.Scatter(\n",
    "            x=self.X_query.flatten(),\n",
    "            y=mean.flatten(),\n",
    "            mode='lines',\n",
    "            name=name,\n",
    "            line=dict(width=2),\n",
    "            visible= i == 0,  # Only show the first trace initially\n",
    "            showlegend=False,\n",
    "        )\n",
    "        fig.add_trace(trace)\n",
    "\n",
    "        # Uncertainty fill\n",
    "        trace = go.Scatter(\n",
    "            x=np.concatenate([self.X_query.flatten(), self.X_query[::-1].flatten()]),\n",
    "            y=np.concatenate([mean.flatten() + 2 * sigma.flatten(), (mean - 2 * sigma).flatten()[::-1]]),\n",
    "            fill='toself',\n",
    "            fillcolor='rgba(0, 100, 80, 0.2)',\n",
    "            line=dict(color='rgba(255, 255, 255, 0)'),\n",
    "            name=name,\n",
    "            showlegend=False,\n",
    "            visible= i == 0  # Only show the first trace initially\n",
    "        )\n",
    "        fig.add_trace(trace)\n",
    "\n",
    "        # Add covariance trace in 2nd subplot\n",
    "        trace = go.Heatmap(\n",
    "            z=covariance.T, name=name, \n",
    "            x=self.X_query.flatten(), y=self.X_query.flatten(),\n",
    "            visible= i == 0,  # Only show the first trace initially\n",
    "            zmin=0, zmax=self.amp_max,\n",
    "            showlegend=False,\n",
    "            )\n",
    "        fig.add_trace(trace, row=1, col=2)\n",
    "\n",
    "    def add_data_traces(self, fig):\n",
    "        # Add data points as scatter traces\n",
    "        trace = go.Scatter(\n",
    "            x=self.X.flatten(),\n",
    "            y=self.y.flatten(),\n",
    "            mode='markers',\n",
    "            name='data',\n",
    "            marker=dict(color='red', size=8),\n",
    "            visible=True,\n",
    "            showlegend=False\n",
    "        )\n",
    "        fig.add_trace(trace)\n",
    "\n",
    "    def make_plot(self, kernel_parameters: list[dict]):\n",
    "\n",
    "        layout = go.Layout(width=800, height=500, title=\"Gaussian Process Predictions\",)\n",
    "        fig = go.Figure(layout=layout)\n",
    "        fig = make_subplots(rows=1, cols=2, figure=fig)\n",
    "\n",
    "\n",
    "        self.amp_max = max(kp.get('amplitude', 1) for kp in kernel_parameters)\n",
    "\n",
    "        self.add_data_traces(fig)\n",
    "\n",
    "        for i, kp in enumerate(kernel_parameters):\n",
    "            self.add_frame_traces(fig, kp, i)\n",
    "\n",
    "        # Make slider\n",
    "        steps = []\n",
    "        for i, kp in enumerate(kernel_parameters):\n",
    "\n",
    "            title = \"\"\n",
    "            for key, value in kp.items():\n",
    "                title += f\"{key}: {value:0.3f}, \"\n",
    "\n",
    "            step = dict(\n",
    "                method='update',\n",
    "                args=[{'visible': self.visible_traces(fig, i)}, \n",
    "                      {'title.text': title}],\n",
    "            )\n",
    "            steps.append(step)\n",
    "\n",
    "        sliders = [dict(\n",
    "            active=0,\n",
    "            currentvalue={'prefix': 'Kernel Parameter set: '},\n",
    "            pad={'b': 10},\n",
    "            steps=steps\n",
    "        )]\n",
    "        fig.update_layout(sliders=sliders)\n",
    "        fig.update_layout(\n",
    "            yaxis=dict(title='Output (y)', range=[-2, 2]),\n",
    "\n",
    "        )\n",
    "\n",
    "        fig.show()\n",
    "\n",
    "        return fig\n"
   ]
  },
  {
   "cell_type": "code",
   "execution_count": 105,
   "metadata": {},
   "outputs": [],
   "source": [
    "# You can change this if you want to use different data.\n",
    "\n",
    "# Define some observations\n",
    "X = np.array([0.3, 0.5, 0.7]).reshape(-1, 1)\n",
    "y = np.array([-0.5, 0.5, 0]).reshape(-1, 1)\n",
    "X_query = np.linspace(0, 1, 250).reshape(-1, 1) # Points where we want to make predictions"
   ]
  },
  {
   "cell_type": "markdown",
   "metadata": {},
   "source": [
    "### Vary the length-scale"
   ]
  },
  {
   "cell_type": "code",
   "execution_count": null,
   "metadata": {},
   "outputs": [],
   "source": [
    "kw = KernelWidget(X, y, X_query)\n",
    "\n",
    "kernel_parameters = [\n",
    "    {'length_scale': ls, 'amplitude': 1.0, 'noise': 0.001} for ls in np.linspace(0.01, 1.0, 25)\n",
    "]\n",
    "\n",
    "fig = kw.make_plot(kernel_parameters=kernel_parameters)"
   ]
  },
  {
   "cell_type": "markdown",
   "metadata": {},
   "source": [
    "### Vary the noise"
   ]
  },
  {
   "cell_type": "code",
   "execution_count": null,
   "metadata": {},
   "outputs": [],
   "source": [
    "kw = KernelWidget(X, y, X_query)\n",
    "\n",
    "kernel_parameters = [\n",
    "    {'length_scale': 0.2, 'amplitude': 1.0, 'noise': noise} for noise in np.geomspace(1e-3, 1.0, 25)]\n",
    "\n",
    "fig = kw.make_plot(kernel_parameters=kernel_parameters)"
   ]
  },
  {
   "cell_type": "markdown",
   "metadata": {},
   "source": [
    "### Vary amplitude"
   ]
  },
  {
   "cell_type": "code",
   "execution_count": null,
   "metadata": {},
   "outputs": [],
   "source": [
    "kw = KernelWidget(X, y, X_query)\n",
    "\n",
    "kernel_parameters = [\n",
    "    {'length_scale': 0.2, 'amplitude': amplitude, 'noise': 1e-3} for amplitude in np.linspace(0.01, 2.0, 30)]\n",
    "\n",
    "fig = kw.make_plot(kernel_parameters=kernel_parameters)"
   ]
  },
  {
   "cell_type": "markdown",
   "metadata": {},
   "source": [
    "### Vary length-scale and noise"
   ]
  },
  {
   "cell_type": "code",
   "execution_count": null,
   "metadata": {},
   "outputs": [],
   "source": [
    "kw = KernelWidget(X, y, X_query)\n",
    "\n",
    "kernel_parameters = [\n",
    "    {'length_scale': ls, 'amplitude': 1.0, 'noise': noise} for ls, noise in zip(np.linspace(0.01, 0.5, 30), np.geomspace(0.01, 2.0, 30))]\n",
    "\n",
    "fig = kw.make_plot(kernel_parameters=kernel_parameters)"
   ]
  },
  {
   "cell_type": "code",
   "execution_count": null,
   "metadata": {},
   "outputs": [],
   "source": []
  }
 ],
 "metadata": {
  "kernelspec": {
   "display_name": ".venv (3.12.5)",
   "language": "python",
   "name": "python3"
  },
  "language_info": {
   "codemirror_mode": {
    "name": "ipython",
    "version": 3
   },
   "file_extension": ".py",
   "mimetype": "text/x-python",
   "name": "python",
   "nbconvert_exporter": "python",
   "pygments_lexer": "ipython3",
   "version": "3.12.5"
  }
 },
 "nbformat": 4,
 "nbformat_minor": 2
}
